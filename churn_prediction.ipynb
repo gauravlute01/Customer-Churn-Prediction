{
 "cells": [
  {
   "cell_type": "markdown",
   "id": "eb2a07ae-aff7-4e3f-93ab-9ba151bd5abc",
   "metadata": {},
   "source": [
    "'''\n",
    "Churn Prediction\n",
    "A Machine Learning Model That Can Predict Customers Who Will Leave The Company\n",
    "The aim is to predict whether a bank's customers leave the bank or not. If the Client has closed \n",
    "his/her bank account, he/she has left.\n",
    "\n",
    "Dataset\n",
    "RowNumber: corresponds to the record (row) number and has no effect on the output.\n",
    "CustomerId: contains random values and has no effect on customer leaving the bank.\n",
    "Surname: the surname of a customer has no impact on their decision to leave the bank.\n",
    "CreditScore: can have an effect on customer churn, since a customer with a higher credit \n",
    "             score is less likely to leave the bank.\n",
    "Geography: a customer’s location can affect their decision to leave the bank.\n",
    "Gender: it’s interesting to explore whether gender plays a role in a customer leaving the bank.\n",
    "Age: this is certainly relevant, since older customers are less likely to leave their bank than younger ones.\n",
    "Tenure: refers to the number of years that the customer has been a client of the bank. Normally, \n",
    "        older clients are more loyal and less likely to leave a bank.\n",
    "Balance: also a very good indicator of customer churn, as people with a higher balance in their\n",
    "          accounts are less likely to leave the bank compared to those with lower balances.\n",
    "NumOfProducts: refers to the number of products that a customer has purchased through the bank.\n",
    "HasCrCard: denotes whether or not a customer has a credit card. This column is also relevant, \n",
    "         since people with a credit card are less likely to leave the bank.\n",
    "IsActiveMember: active customers are less likely to leave the bank.\n",
    "EstimatedSalary: as with balance, people with lower salaries are more likely to \n",
    "                leave the bank compared to those with higher salaries.\n",
    "Exited: whether or not the customer left the bank. (0=No,1=Yes)\n",
    "The model created as a result of LightGBM hyperparameter optimization (0.867300)\n",
    "'''"
   ]
  },
  {
   "cell_type": "code",
   "execution_count": 65,
   "id": "d14c406c-acfa-469e-aee2-ca735dfcf61f",
   "metadata": {},
   "outputs": [],
   "source": [
    "# Important library\n",
    "import pandas as pd\n",
    "import numpy as np\n",
    "import seaborn as sns\n",
    "import matplotlib.pyplot as plt\n",
    "from matplotlib import pyplot\n",
    "from sklearn.model_selection import cross_val_predict\n",
    "from sklearn.metrics import confusion_matrix, classification_report, f1_score, precision_score, recall_score, roc_auc_score, roc_curve\n",
    "from sklearn.linear_model import LogisticRegression  \n",
    "from sklearn.neighbors import KNeighborsClassifier  \n",
    "from sklearn.svm import SVC\n",
    "from sklearn.tree import DecisionTreeClassifier \n",
    "from sklearn.ensemble import RandomForestClassifier\n",
    "from sklearn.model_selection import train_test_split\n",
    "from sklearn import preprocessing\n",
    "from sklearn.metrics import accuracy_score,recall_score\n",
    "from sklearn.model_selection import KFold\n",
    "from sklearn.model_selection import cross_val_score, GridSearchCV"
   ]
  },
  {
   "cell_type": "code",
   "execution_count": null,
   "id": "72234b3f-9da3-4c42-9bff-5dacf7ff33dc",
   "metadata": {},
   "outputs": [],
   "source": []
  },
  {
   "cell_type": "code",
   "execution_count": 4,
   "id": "170d75d4-c69f-460e-bcc1-fd8d37b16849",
   "metadata": {},
   "outputs": [],
   "source": [
    "# Import dataset\n",
    "df = pd.read_csv('churn.csv',index_col=0)"
   ]
  },
  {
   "cell_type": "code",
   "execution_count": 5,
   "id": "f40cd309-1424-440d-b970-db742c8e257e",
   "metadata": {},
   "outputs": [
    {
     "data": {
      "text/html": [
       "<div>\n",
       "<style scoped>\n",
       "    .dataframe tbody tr th:only-of-type {\n",
       "        vertical-align: middle;\n",
       "    }\n",
       "\n",
       "    .dataframe tbody tr th {\n",
       "        vertical-align: top;\n",
       "    }\n",
       "\n",
       "    .dataframe thead th {\n",
       "        text-align: right;\n",
       "    }\n",
       "</style>\n",
       "<table border=\"1\" class=\"dataframe\">\n",
       "  <thead>\n",
       "    <tr style=\"text-align: right;\">\n",
       "      <th></th>\n",
       "      <th>CustomerId</th>\n",
       "      <th>Surname</th>\n",
       "      <th>CreditScore</th>\n",
       "      <th>Geography</th>\n",
       "      <th>Gender</th>\n",
       "      <th>Age</th>\n",
       "      <th>Tenure</th>\n",
       "      <th>Balance</th>\n",
       "      <th>NumOfProducts</th>\n",
       "      <th>HasCrCard</th>\n",
       "      <th>IsActiveMember</th>\n",
       "      <th>EstimatedSalary</th>\n",
       "      <th>Exited</th>\n",
       "    </tr>\n",
       "    <tr>\n",
       "      <th>RowNumber</th>\n",
       "      <th></th>\n",
       "      <th></th>\n",
       "      <th></th>\n",
       "      <th></th>\n",
       "      <th></th>\n",
       "      <th></th>\n",
       "      <th></th>\n",
       "      <th></th>\n",
       "      <th></th>\n",
       "      <th></th>\n",
       "      <th></th>\n",
       "      <th></th>\n",
       "      <th></th>\n",
       "    </tr>\n",
       "  </thead>\n",
       "  <tbody>\n",
       "    <tr>\n",
       "      <th>1</th>\n",
       "      <td>15634602</td>\n",
       "      <td>Hargrave</td>\n",
       "      <td>619</td>\n",
       "      <td>France</td>\n",
       "      <td>Female</td>\n",
       "      <td>42</td>\n",
       "      <td>2</td>\n",
       "      <td>0.00</td>\n",
       "      <td>1</td>\n",
       "      <td>1</td>\n",
       "      <td>1</td>\n",
       "      <td>101348.88</td>\n",
       "      <td>1</td>\n",
       "    </tr>\n",
       "    <tr>\n",
       "      <th>2</th>\n",
       "      <td>15647311</td>\n",
       "      <td>Hill</td>\n",
       "      <td>608</td>\n",
       "      <td>Spain</td>\n",
       "      <td>Female</td>\n",
       "      <td>41</td>\n",
       "      <td>1</td>\n",
       "      <td>83807.86</td>\n",
       "      <td>1</td>\n",
       "      <td>0</td>\n",
       "      <td>1</td>\n",
       "      <td>112542.58</td>\n",
       "      <td>0</td>\n",
       "    </tr>\n",
       "    <tr>\n",
       "      <th>3</th>\n",
       "      <td>15619304</td>\n",
       "      <td>Onio</td>\n",
       "      <td>502</td>\n",
       "      <td>France</td>\n",
       "      <td>Female</td>\n",
       "      <td>42</td>\n",
       "      <td>8</td>\n",
       "      <td>159660.80</td>\n",
       "      <td>3</td>\n",
       "      <td>1</td>\n",
       "      <td>0</td>\n",
       "      <td>113931.57</td>\n",
       "      <td>1</td>\n",
       "    </tr>\n",
       "    <tr>\n",
       "      <th>4</th>\n",
       "      <td>15701354</td>\n",
       "      <td>Boni</td>\n",
       "      <td>699</td>\n",
       "      <td>France</td>\n",
       "      <td>Female</td>\n",
       "      <td>39</td>\n",
       "      <td>1</td>\n",
       "      <td>0.00</td>\n",
       "      <td>2</td>\n",
       "      <td>0</td>\n",
       "      <td>0</td>\n",
       "      <td>93826.63</td>\n",
       "      <td>0</td>\n",
       "    </tr>\n",
       "    <tr>\n",
       "      <th>5</th>\n",
       "      <td>15737888</td>\n",
       "      <td>Mitchell</td>\n",
       "      <td>850</td>\n",
       "      <td>Spain</td>\n",
       "      <td>Female</td>\n",
       "      <td>43</td>\n",
       "      <td>2</td>\n",
       "      <td>125510.82</td>\n",
       "      <td>1</td>\n",
       "      <td>1</td>\n",
       "      <td>1</td>\n",
       "      <td>79084.10</td>\n",
       "      <td>0</td>\n",
       "    </tr>\n",
       "  </tbody>\n",
       "</table>\n",
       "</div>"
      ],
      "text/plain": [
       "           CustomerId   Surname  CreditScore Geography  Gender  Age  Tenure  \\\n",
       "RowNumber                                                                     \n",
       "1            15634602  Hargrave          619    France  Female   42       2   \n",
       "2            15647311      Hill          608     Spain  Female   41       1   \n",
       "3            15619304      Onio          502    France  Female   42       8   \n",
       "4            15701354      Boni          699    France  Female   39       1   \n",
       "5            15737888  Mitchell          850     Spain  Female   43       2   \n",
       "\n",
       "             Balance  NumOfProducts  HasCrCard  IsActiveMember  \\\n",
       "RowNumber                                                        \n",
       "1               0.00              1          1               1   \n",
       "2           83807.86              1          0               1   \n",
       "3          159660.80              3          1               0   \n",
       "4               0.00              2          0               0   \n",
       "5          125510.82              1          1               1   \n",
       "\n",
       "           EstimatedSalary  Exited  \n",
       "RowNumber                           \n",
       "1                101348.88       1  \n",
       "2                112542.58       0  \n",
       "3                113931.57       1  \n",
       "4                 93826.63       0  \n",
       "5                 79084.10       0  "
      ]
     },
     "execution_count": 5,
     "metadata": {},
     "output_type": "execute_result"
    }
   ],
   "source": [
    "# EDA\n",
    "df.head()"
   ]
  },
  {
   "cell_type": "code",
   "execution_count": 6,
   "id": "46f5c630-9f97-44d2-864d-ba341891aac9",
   "metadata": {},
   "outputs": [
    {
     "data": {
      "text/plain": [
       "(10000, 13)"
      ]
     },
     "execution_count": 6,
     "metadata": {},
     "output_type": "execute_result"
    }
   ],
   "source": [
    "# The size of the data set \n",
    "df.shape"
   ]
  },
  {
   "cell_type": "code",
   "execution_count": 7,
   "id": "5a920655-87f5-4a51-a326-c640550fcd83",
   "metadata": {},
   "outputs": [
    {
     "name": "stdout",
     "output_type": "stream",
     "text": [
      "<class 'pandas.core.frame.DataFrame'>\n",
      "Index: 10000 entries, 1 to 10000\n",
      "Data columns (total 13 columns):\n",
      " #   Column           Non-Null Count  Dtype  \n",
      "---  ------           --------------  -----  \n",
      " 0   CustomerId       10000 non-null  int64  \n",
      " 1   Surname          10000 non-null  object \n",
      " 2   CreditScore      10000 non-null  int64  \n",
      " 3   Geography        10000 non-null  object \n",
      " 4   Gender           10000 non-null  object \n",
      " 5   Age              10000 non-null  int64  \n",
      " 6   Tenure           10000 non-null  int64  \n",
      " 7   Balance          10000 non-null  float64\n",
      " 8   NumOfProducts    10000 non-null  int64  \n",
      " 9   HasCrCard        10000 non-null  int64  \n",
      " 10  IsActiveMember   10000 non-null  int64  \n",
      " 11  EstimatedSalary  10000 non-null  float64\n",
      " 12  Exited           10000 non-null  int64  \n",
      "dtypes: float64(2), int64(8), object(3)\n",
      "memory usage: 1.1+ MB\n"
     ]
    }
   ],
   "source": [
    "# Feature information\n",
    "df.info()"
   ]
  },
  {
   "cell_type": "code",
   "execution_count": 8,
   "id": "1d8d0ae7-7458-48cc-8c8f-1ba8328c7d4d",
   "metadata": {},
   "outputs": [
    {
     "data": {
      "text/html": [
       "<div>\n",
       "<style scoped>\n",
       "    .dataframe tbody tr th:only-of-type {\n",
       "        vertical-align: middle;\n",
       "    }\n",
       "\n",
       "    .dataframe tbody tr th {\n",
       "        vertical-align: top;\n",
       "    }\n",
       "\n",
       "    .dataframe thead th {\n",
       "        text-align: right;\n",
       "    }\n",
       "</style>\n",
       "<table border=\"1\" class=\"dataframe\">\n",
       "  <thead>\n",
       "    <tr style=\"text-align: right;\">\n",
       "      <th></th>\n",
       "      <th>CustomerId</th>\n",
       "      <th>CreditScore</th>\n",
       "      <th>Age</th>\n",
       "      <th>Tenure</th>\n",
       "      <th>Balance</th>\n",
       "      <th>NumOfProducts</th>\n",
       "      <th>HasCrCard</th>\n",
       "      <th>IsActiveMember</th>\n",
       "      <th>EstimatedSalary</th>\n",
       "      <th>Exited</th>\n",
       "    </tr>\n",
       "  </thead>\n",
       "  <tbody>\n",
       "    <tr>\n",
       "      <th>count</th>\n",
       "      <td>1.000000e+04</td>\n",
       "      <td>10000.000000</td>\n",
       "      <td>10000.000000</td>\n",
       "      <td>10000.000000</td>\n",
       "      <td>10000.000000</td>\n",
       "      <td>10000.000000</td>\n",
       "      <td>10000.00000</td>\n",
       "      <td>10000.000000</td>\n",
       "      <td>10000.000000</td>\n",
       "      <td>10000.000000</td>\n",
       "    </tr>\n",
       "    <tr>\n",
       "      <th>mean</th>\n",
       "      <td>1.569094e+07</td>\n",
       "      <td>650.528800</td>\n",
       "      <td>38.921800</td>\n",
       "      <td>5.012800</td>\n",
       "      <td>76485.889288</td>\n",
       "      <td>1.530200</td>\n",
       "      <td>0.70550</td>\n",
       "      <td>0.515100</td>\n",
       "      <td>100090.239881</td>\n",
       "      <td>0.203700</td>\n",
       "    </tr>\n",
       "    <tr>\n",
       "      <th>std</th>\n",
       "      <td>7.193619e+04</td>\n",
       "      <td>96.653299</td>\n",
       "      <td>10.487806</td>\n",
       "      <td>2.892174</td>\n",
       "      <td>62397.405202</td>\n",
       "      <td>0.581654</td>\n",
       "      <td>0.45584</td>\n",
       "      <td>0.499797</td>\n",
       "      <td>57510.492818</td>\n",
       "      <td>0.402769</td>\n",
       "    </tr>\n",
       "    <tr>\n",
       "      <th>min</th>\n",
       "      <td>1.556570e+07</td>\n",
       "      <td>350.000000</td>\n",
       "      <td>18.000000</td>\n",
       "      <td>0.000000</td>\n",
       "      <td>0.000000</td>\n",
       "      <td>1.000000</td>\n",
       "      <td>0.00000</td>\n",
       "      <td>0.000000</td>\n",
       "      <td>11.580000</td>\n",
       "      <td>0.000000</td>\n",
       "    </tr>\n",
       "    <tr>\n",
       "      <th>25%</th>\n",
       "      <td>1.562853e+07</td>\n",
       "      <td>584.000000</td>\n",
       "      <td>32.000000</td>\n",
       "      <td>3.000000</td>\n",
       "      <td>0.000000</td>\n",
       "      <td>1.000000</td>\n",
       "      <td>0.00000</td>\n",
       "      <td>0.000000</td>\n",
       "      <td>51002.110000</td>\n",
       "      <td>0.000000</td>\n",
       "    </tr>\n",
       "    <tr>\n",
       "      <th>50%</th>\n",
       "      <td>1.569074e+07</td>\n",
       "      <td>652.000000</td>\n",
       "      <td>37.000000</td>\n",
       "      <td>5.000000</td>\n",
       "      <td>97198.540000</td>\n",
       "      <td>1.000000</td>\n",
       "      <td>1.00000</td>\n",
       "      <td>1.000000</td>\n",
       "      <td>100193.915000</td>\n",
       "      <td>0.000000</td>\n",
       "    </tr>\n",
       "    <tr>\n",
       "      <th>75%</th>\n",
       "      <td>1.575323e+07</td>\n",
       "      <td>718.000000</td>\n",
       "      <td>44.000000</td>\n",
       "      <td>7.000000</td>\n",
       "      <td>127644.240000</td>\n",
       "      <td>2.000000</td>\n",
       "      <td>1.00000</td>\n",
       "      <td>1.000000</td>\n",
       "      <td>149388.247500</td>\n",
       "      <td>0.000000</td>\n",
       "    </tr>\n",
       "    <tr>\n",
       "      <th>max</th>\n",
       "      <td>1.581569e+07</td>\n",
       "      <td>850.000000</td>\n",
       "      <td>92.000000</td>\n",
       "      <td>10.000000</td>\n",
       "      <td>250898.090000</td>\n",
       "      <td>4.000000</td>\n",
       "      <td>1.00000</td>\n",
       "      <td>1.000000</td>\n",
       "      <td>199992.480000</td>\n",
       "      <td>1.000000</td>\n",
       "    </tr>\n",
       "  </tbody>\n",
       "</table>\n",
       "</div>"
      ],
      "text/plain": [
       "         CustomerId   CreditScore           Age        Tenure        Balance  \\\n",
       "count  1.000000e+04  10000.000000  10000.000000  10000.000000   10000.000000   \n",
       "mean   1.569094e+07    650.528800     38.921800      5.012800   76485.889288   \n",
       "std    7.193619e+04     96.653299     10.487806      2.892174   62397.405202   \n",
       "min    1.556570e+07    350.000000     18.000000      0.000000       0.000000   \n",
       "25%    1.562853e+07    584.000000     32.000000      3.000000       0.000000   \n",
       "50%    1.569074e+07    652.000000     37.000000      5.000000   97198.540000   \n",
       "75%    1.575323e+07    718.000000     44.000000      7.000000  127644.240000   \n",
       "max    1.581569e+07    850.000000     92.000000     10.000000  250898.090000   \n",
       "\n",
       "       NumOfProducts    HasCrCard  IsActiveMember  EstimatedSalary  \\\n",
       "count   10000.000000  10000.00000    10000.000000     10000.000000   \n",
       "mean        1.530200      0.70550        0.515100    100090.239881   \n",
       "std         0.581654      0.45584        0.499797     57510.492818   \n",
       "min         1.000000      0.00000        0.000000        11.580000   \n",
       "25%         1.000000      0.00000        0.000000     51002.110000   \n",
       "50%         1.000000      1.00000        1.000000    100193.915000   \n",
       "75%         2.000000      1.00000        1.000000    149388.247500   \n",
       "max         4.000000      1.00000        1.000000    199992.480000   \n",
       "\n",
       "             Exited  \n",
       "count  10000.000000  \n",
       "mean       0.203700  \n",
       "std        0.402769  \n",
       "min        0.000000  \n",
       "25%        0.000000  \n",
       "50%        0.000000  \n",
       "75%        0.000000  \n",
       "max        1.000000  "
      ]
     },
     "execution_count": 8,
     "metadata": {},
     "output_type": "execute_result"
    }
   ],
   "source": [
    "# Descriptive statistic of the data set \n",
    "df.describe()"
   ]
  },
  {
   "cell_type": "code",
   "execution_count": 9,
   "id": "91832227-4394-44ca-8e1f-20dd822ca552",
   "metadata": {},
   "outputs": [
    {
     "data": {
      "text/plain": [
       "['Geography',\n",
       " 'Gender',\n",
       " 'Tenure',\n",
       " 'NumOfProducts',\n",
       " 'HasCrCard',\n",
       " 'IsActiveMember']"
      ]
     },
     "execution_count": 9,
     "metadata": {},
     "output_type": "execute_result"
    }
   ],
   "source": [
    "# categorical Variables\n",
    "categorical_variables = [col for col in df.columns if col in 'O'\n",
    "                        or df[col].nunique() <= 11\n",
    "                        and col not in \"Exited\"]\n",
    "categorical_variables"
   ]
  },
  {
   "cell_type": "code",
   "execution_count": 10,
   "id": "fbe829d3-635e-41db-932c-ed869008d034",
   "metadata": {},
   "outputs": [
    {
     "data": {
      "text/plain": [
       "['CustomerId', 'CreditScore', 'Age', 'Balance', 'EstimatedSalary']"
      ]
     },
     "execution_count": 10,
     "metadata": {},
     "output_type": "execute_result"
    }
   ],
   "source": [
    "# Numeric Variables \n",
    "numeric_variables = [col for col in df.columns if df[col].dtype != \"object\"\n",
    "                    and df[col].nunique() >11\n",
    "                    and col not in \"Customer Id\"]\n",
    "numeric_variables"
   ]
  },
  {
   "cell_type": "code",
   "execution_count": 11,
   "id": "3091dbd3-d32d-4479-81d8-bbe47555d47c",
   "metadata": {},
   "outputs": [
    {
     "data": {
      "text/plain": [
       "Exited\n",
       "0    7963\n",
       "1    2037\n",
       "Name: count, dtype: int64"
      ]
     },
     "execution_count": 11,
     "metadata": {},
     "output_type": "execute_result"
    }
   ],
   "source": [
    "# Frequency of classes of dependentvariable \n",
    "df[\"Exited\"].value_counts()"
   ]
  },
  {
   "cell_type": "code",
   "execution_count": 13,
   "id": "73e36be8-49c7-4505-9019-39a42b06fd9b",
   "metadata": {},
   "outputs": [],
   "source": [
    "# Customer leaving the bank \n",
    "churn = df.loc[df['Exited']==1]"
   ]
  },
  {
   "cell_type": "code",
   "execution_count": 14,
   "id": "4149e628-c70d-4a7a-8ea7-2de752583fac",
   "metadata": {},
   "outputs": [],
   "source": [
    "# Customer who did not leave the bank \n",
    "not_churn = df.loc[df[\"Exited\"]==0]"
   ]
  },
  {
   "cell_type": "code",
   "execution_count": 15,
   "id": "671dbb02-0436-4de5-bab7-365c80b55345",
   "metadata": {},
   "outputs": [
    {
     "data": {
      "text/plain": [
       "Tenure\n",
       "0     318\n",
       "10    389\n",
       "9     771\n",
       "6     771\n",
       "4     786\n",
       "3     796\n",
       "5     803\n",
       "1     803\n",
       "8     828\n",
       "2     847\n",
       "7     851\n",
       "Name: count, dtype: int64"
      ]
     },
     "execution_count": 15,
     "metadata": {},
     "output_type": "execute_result"
    }
   ],
   "source": [
    "# Frequency of not churn group according to Tenure\n",
    "not_churn[\"Tenure\"].value_counts().sort_values()"
   ]
  },
  {
   "cell_type": "code",
   "execution_count": 16,
   "id": "5fe392cb-52e6-4fd1-8247-623e97cc4687",
   "metadata": {},
   "outputs": [
    {
     "data": {
      "text/plain": [
       "Tenure\n",
       "0      95\n",
       "10    101\n",
       "7     177\n",
       "6     196\n",
       "8     197\n",
       "2     201\n",
       "4     203\n",
       "5     209\n",
       "3     213\n",
       "9     213\n",
       "1     232\n",
       "Name: count, dtype: int64"
      ]
     },
     "execution_count": 16,
     "metadata": {},
     "output_type": "execute_result"
    }
   ],
   "source": [
    "# Frequency of churn group according to Tenure \n",
    "churn[\"Tenure\"].value_counts().sort_values()"
   ]
  },
  {
   "cell_type": "code",
   "execution_count": 17,
   "id": "4eee40c0-c74c-44ed-91f1-d946229503d0",
   "metadata": {},
   "outputs": [
    {
     "data": {
      "text/plain": [
       "NumOfProducts\n",
       "3      46\n",
       "1    3675\n",
       "2    4242\n",
       "Name: count, dtype: int64"
      ]
     },
     "execution_count": 17,
     "metadata": {},
     "output_type": "execute_result"
    }
   ],
   "source": [
    "# Frequency of not churn group according to NumOfProducts\n",
    "not_churn[\"NumOfProducts\"].value_counts().sort_values()"
   ]
  },
  {
   "cell_type": "code",
   "execution_count": 18,
   "id": "f828b989-438f-4dcf-917d-4709df90420c",
   "metadata": {},
   "outputs": [
    {
     "data": {
      "text/plain": [
       "NumOfProducts\n",
       "4      60\n",
       "3     220\n",
       "2     348\n",
       "1    1409\n",
       "Name: count, dtype: int64"
      ]
     },
     "execution_count": 18,
     "metadata": {},
     "output_type": "execute_result"
    }
   ],
   "source": [
    "# Frequency of churn group according to NumOfProducts\n",
    "churn['NumOfProducts'].value_counts().sort_values()"
   ]
  },
  {
   "cell_type": "code",
   "execution_count": 19,
   "id": "3d1a9f12-ad18-481d-aed0-aa18d01951bb",
   "metadata": {},
   "outputs": [
    {
     "data": {
      "text/plain": [
       "HasCrCard\n",
       "1    5631\n",
       "0    2332\n",
       "Name: count, dtype: int64"
      ]
     },
     "execution_count": 19,
     "metadata": {},
     "output_type": "execute_result"
    }
   ],
   "source": [
    "# examining the HasCrCard of the not_churn group \n",
    "not_churn[\"HasCrCard\"].value_counts()"
   ]
  },
  {
   "cell_type": "code",
   "execution_count": 20,
   "id": "93473de5-8d15-4584-b427-270c6e458279",
   "metadata": {},
   "outputs": [
    {
     "data": {
      "text/plain": [
       "HasCrCard\n",
       "1    1424\n",
       "0     613\n",
       "Name: count, dtype: int64"
      ]
     },
     "execution_count": 20,
     "metadata": {},
     "output_type": "execute_result"
    }
   ],
   "source": [
    "# Examing the HasCrCard of thr churn group \n",
    "churn[\"HasCrCard\"].value_counts()"
   ]
  },
  {
   "cell_type": "code",
   "execution_count": 21,
   "id": "64b14755-4bdb-4a01-ad15-6c40d9fa81ec",
   "metadata": {},
   "outputs": [
    {
     "data": {
      "text/plain": [
       "IsActiveMember\n",
       "1    4416\n",
       "0    3547\n",
       "Name: count, dtype: int64"
      ]
     },
     "execution_count": 21,
     "metadata": {},
     "output_type": "execute_result"
    }
   ],
   "source": [
    "# Examining the IsActiveMember of the not_churn group\n",
    "not_churn[\"IsActiveMember\"].value_counts()"
   ]
  },
  {
   "cell_type": "code",
   "execution_count": 22,
   "id": "7df6ffe7-bbd3-40db-b430-b66064263853",
   "metadata": {},
   "outputs": [
    {
     "data": {
      "text/plain": [
       "IsActiveMember\n",
       "0    1302\n",
       "1     735\n",
       "Name: count, dtype: int64"
      ]
     },
     "execution_count": 22,
     "metadata": {},
     "output_type": "execute_result"
    }
   ],
   "source": [
    "# examining the IsActiveMember of the churn group \n",
    "churn[\"IsActiveMember\"].value_counts()"
   ]
  },
  {
   "cell_type": "code",
   "execution_count": 23,
   "id": "2011be4c-4d69-4346-9fe9-8fa68957c8e5",
   "metadata": {},
   "outputs": [
    {
     "data": {
      "text/plain": [
       "Geography\n",
       "Germany    1695\n",
       "Spain      2064\n",
       "France     4204\n",
       "Name: count, dtype: int64"
      ]
     },
     "execution_count": 23,
     "metadata": {},
     "output_type": "execute_result"
    }
   ],
   "source": [
    "# Frequency of not_churn group according to Geography \n",
    "not_churn.Geography.value_counts().sort_values()"
   ]
  },
  {
   "cell_type": "code",
   "execution_count": 24,
   "id": "77534a39-e85c-4d5d-8861-194b74097dda",
   "metadata": {},
   "outputs": [
    {
     "data": {
      "text/plain": [
       "Geography\n",
       "Spain      413\n",
       "France     810\n",
       "Germany    814\n",
       "Name: count, dtype: int64"
      ]
     },
     "execution_count": 24,
     "metadata": {},
     "output_type": "execute_result"
    }
   ],
   "source": [
    "# Frequency of churn group according to Geography \n",
    "churn.Geography.value_counts().sort_values()"
   ]
  },
  {
   "cell_type": "code",
   "execution_count": 25,
   "id": "a32c9b39-6cdf-45ad-9b80-d81e72b93a51",
   "metadata": {},
   "outputs": [
    {
     "data": {
      "text/plain": [
       "Gender\n",
       "Male      4559\n",
       "Female    3404\n",
       "Name: count, dtype: int64"
      ]
     },
     "execution_count": 25,
     "metadata": {},
     "output_type": "execute_result"
    }
   ],
   "source": [
    "# Frequency of not_churn group according to Gender \n",
    "not_churn.Gender.value_counts()"
   ]
  },
  {
   "cell_type": "code",
   "execution_count": 26,
   "id": "029f4fc0-ceed-4673-840e-87d5762e49ee",
   "metadata": {},
   "outputs": [
    {
     "data": {
      "text/plain": [
       "Gender\n",
       "Female    1139\n",
       "Male       898\n",
       "Name: count, dtype: int64"
      ]
     },
     "execution_count": 26,
     "metadata": {},
     "output_type": "execute_result"
    }
   ],
   "source": [
    "# Frequency of churn group according to Gender\n",
    "churn.Gender.value_counts()"
   ]
  },
  {
   "cell_type": "code",
   "execution_count": 27,
   "id": "dc7423e8-b4d2-4b00-bac6-5a34fcbf9246",
   "metadata": {},
   "outputs": [
    {
     "data": {
      "text/plain": [
       "count    7963.000000\n",
       "mean      651.853196\n",
       "std        95.653837\n",
       "min       405.000000\n",
       "5%        492.000000\n",
       "25%       585.000000\n",
       "50%       653.000000\n",
       "75%       718.000000\n",
       "90%       778.000000\n",
       "95%       812.000000\n",
       "99%       850.000000\n",
       "max       850.000000\n",
       "Name: CreditScore, dtype: float64"
      ]
     },
     "execution_count": 27,
     "metadata": {},
     "output_type": "execute_result"
    }
   ],
   "source": [
    "# Let's examine the credit score of the not_churn group \n",
    "not_churn[\"CreditScore\"].describe([0.05,0.25,0.50,0.75,0.90,0.95,0.99])"
   ]
  },
  {
   "cell_type": "code",
   "execution_count": 31,
   "id": "f2695c53-c198-467b-b77c-24dfd9ff0170",
   "metadata": {},
   "outputs": [
    {
     "data": {
      "image/png": "[encoded data removed]",
      "text/plain": [
       "<Figure size 576x432 with 1 Axes>"
      ]
     },
     "metadata": {
      "needs_background": "light"
     },
     "output_type": "display_data"
    }
   ],
   "source": [
    "# distribution of the Credit Score for not_churn \n",
    "pyplot.figure(figsize=(8, 6))\n",
    "pyplot.xlabel('CreditScore')\n",
    "pyplot.hist(not_churn[\"CreditScore\"], bins=15, alpha=0.7, label='Not Churn')\n",
    "pyplot.legend(loc='upper right')\n",
    "pyplot.show()"
   ]
  },
  {
   "cell_type": "code",
   "execution_count": 32,
   "id": "f5b38fcd-cb8c-4a6a-a59f-8938bee7dee8",
   "metadata": {},
   "outputs": [
    {
     "data": {
      "text/plain": [
       "count    2037.000000\n",
       "mean      645.351497\n",
       "std       100.321503\n",
       "min       350.000000\n",
       "5%        479.000000\n",
       "25%       578.000000\n",
       "50%       646.000000\n",
       "75%       716.000000\n",
       "90%       776.400000\n",
       "99%       850.000000\n",
       "max       850.000000\n",
       "Name: CreditScore, dtype: float64"
      ]
     },
     "execution_count": 32,
     "metadata": {},
     "output_type": "execute_result"
    }
   ],
   "source": [
    "# Let's examine the credit score of the churn group \n",
    "churn['CreditScore'].describe([0.05, 0.25, 0.50, 0.75, 0.90, 0.99])"
   ]
  },
  {
   "cell_type": "code",
   "execution_count": 33,
   "id": "5cf146fd-ad9f-4c58-9f6d-6886933e1193",
   "metadata": {},
   "outputs": [
    {
     "data": {
      "image/png": "[encoded data removed]",
      "text/plain": [
       "<Figure size 576x432 with 1 Axes>"
      ]
     },
     "metadata": {
      "needs_background": "light"
     },
     "output_type": "display_data"
    }
   ],
   "source": [
    "# Destribution of the Credit Score for churn \n",
    "pyplot.figure(figsize=(8,6))\n",
    "pyplot.xlabel('CreditScore')\n",
    "pyplot.hist(churn[\"CreditScore\"], bins=15, alpha=0.8, label='Churn')\n",
    "pyplot.legend(loc='upper right')\n",
    "pyplot.show()"
   ]
  },
  {
   "cell_type": "code",
   "execution_count": 34,
   "id": "66c68cb6-4af5-4c3c-b367-011259a5fc74",
   "metadata": {},
   "outputs": [
    {
     "data": {
      "text/plain": [
       "<seaborn.axisgrid.FacetGrid at 0x7fa3c5abeaa0>"
      ]
     },
     "execution_count": 34,
     "metadata": {},
     "output_type": "execute_result"
    },
    {
     "data": {
      "image/png": "[encoded data removed]",
      "text/plain": [
       "<Figure size 368x360 with 1 Axes>"
      ]
     },
     "metadata": {
      "needs_background": "light"
     },
     "output_type": "display_data"
    }
   ],
   "source": [
    "sns.catplot(data=df, x='Exited', y='CreditScore')"
   ]
  },
  {
   "cell_type": "code",
   "execution_count": 35,
   "id": "a5f4f0fd-b022-4f70-a2fa-21774cd36978",
   "metadata": {},
   "outputs": [
    {
     "data": {
      "text/plain": [
       "<Axes: xlabel='Exited', ylabel='CreditScore'>"
      ]
     },
     "execution_count": 35,
     "metadata": {},
     "output_type": "execute_result"
    },
    {
     "data": {
      "image/png": "[encoded data removed]",
      "text/plain": [
       "<Figure size 432x288 with 1 Axes>"
      ]
     },
     "metadata": {
      "needs_background": "light"
     },
     "output_type": "display_data"
    }
   ],
   "source": [
    "sns.violinplot(data=df, x='Exited', y='CreditScore')"
   ]
  },
  {
   "cell_type": "code",
   "execution_count": 36,
   "id": "5dad057a-f947-45a7-a31f-ab80a581b1a6",
   "metadata": {},
   "outputs": [
    {
     "data": {
      "text/plain": [
       "count    7963.000000\n",
       "mean       37.408389\n",
       "std        10.125363\n",
       "min        18.000000\n",
       "5%         24.000000\n",
       "25%        31.000000\n",
       "50%        36.000000\n",
       "75%        41.000000\n",
       "90%        49.000000\n",
       "95%        59.000000\n",
       "99%        73.000000\n",
       "max        92.000000\n",
       "Name: Age, dtype: float64"
      ]
     },
     "execution_count": 36,
     "metadata": {},
     "output_type": "execute_result"
    }
   ],
   "source": [
    "# examining the age of the not_churn group \n",
    "not_churn['Age'].describe([0.05,0.25, 0.50, 0.75, 0.90, 0.95, 0.99])"
   ]
  },
  {
   "cell_type": "code",
   "execution_count": 37,
   "id": "aef83426-6815-4ee6-b8c7-8ea62a7db2f9",
   "metadata": {},
   "outputs": [
    {
     "data": {
      "image/png": "[encoded data removed]",
      "text/plain": [
       "<Figure size 576x432 with 1 Axes>"
      ]
     },
     "metadata": {
      "needs_background": "light"
     },
     "output_type": "display_data"
    }
   ],
   "source": [
    "# distribution of the Age for not_churn \n",
    "pyplot.figure(figsize=(8, 6))\n",
    "pyplot.xlabel('Age')\n",
    "pyplot.hist(not_churn['Age'],bins=15, alpha=0.7, label='Not Churn')\n",
    "pyplot.legend(loc='upper right')\n",
    "pyplot.show()"
   ]
  },
  {
   "cell_type": "code",
   "execution_count": 38,
   "id": "0ccccdf6-606a-4ee8-980c-3bec7a2233af",
   "metadata": {},
   "outputs": [
    {
     "data": {
      "text/plain": [
       "count    2037.000000\n",
       "mean       44.837997\n",
       "std         9.761562\n",
       "min        18.000000\n",
       "5%         29.000000\n",
       "25%        38.000000\n",
       "50%        45.000000\n",
       "75%        51.000000\n",
       "90%        58.000000\n",
       "95%        61.000000\n",
       "99%        68.000000\n",
       "max        84.000000\n",
       "Name: Age, dtype: float64"
      ]
     },
     "execution_count": 38,
     "metadata": {},
     "output_type": "execute_result"
    }
   ],
   "source": [
    "# examine the age of the churn group\n",
    "churn['Age'].describe([0.05,0.25,0.50,0.75,0.90,0.95,0.99])"
   ]
  },
  {
   "cell_type": "code",
   "execution_count": 39,
   "id": "eaf57580-1287-4132-a682-c8acea4f897e",
   "metadata": {},
   "outputs": [
    {
     "data": {
      "image/png": "[encoded data removed]",
      "text/plain": [
       "<Figure size 576x432 with 1 Axes>"
      ]
     },
     "metadata": {
      "needs_background": "light"
     },
     "output_type": "display_data"
    }
   ],
   "source": [
    "# distribution of the Age for churn\n",
    "pyplot.figure(figsize=(8, 6))\n",
    "pyplot.xlabel('Age')\n",
    "pyplot.hist(churn['Age'], bins=15, alpha=0.7, label='Churn')\n",
    "pyplot.legend(loc='upper right')\n",
    "pyplot.show()"
   ]
  },
  {
   "cell_type": "code",
   "execution_count": 40,
   "id": "8b55ef67-3cb1-4959-acef-717a55e0e909",
   "metadata": {},
   "outputs": [
    {
     "data": {
      "text/plain": [
       "<seaborn.axisgrid.FacetGrid at 0x7fa3c58f7d30>"
      ]
     },
     "execution_count": 40,
     "metadata": {},
     "output_type": "execute_result"
    },
    {
     "data": {
      "image/png": "[encoded data removed]",
      "text/plain": [
       "<Figure size 368x360 with 1 Axes>"
      ]
     },
     "metadata": {
      "needs_background": "light"
     },
     "output_type": "display_data"
    }
   ],
   "source": [
    "sns.catplot(data=df, x='Exited', y='Age') #1 = churn, 0=not churn"
   ]
  },
  {
   "cell_type": "code",
   "execution_count": 41,
   "id": "af966341-bbc7-44e8-a832-0548f8a76113",
   "metadata": {},
   "outputs": [
    {
     "data": {
      "text/plain": [
       "count      7963.000000\n",
       "mean      72745.296779\n",
       "std       62848.040701\n",
       "min           0.000000\n",
       "5%            0.000000\n",
       "25%           0.000000\n",
       "50%       92072.680000\n",
       "75%      126410.280000\n",
       "90%      148730.298000\n",
       "95%      161592.595000\n",
       "99%      183753.906200\n",
       "max      221532.800000\n",
       "Name: Balance, dtype: float64"
      ]
     },
     "execution_count": 41,
     "metadata": {},
     "output_type": "execute_result"
    }
   ],
   "source": [
    "# Examining the Balance of the not_churn group \n",
    "not_churn['Balance'].describe([0.05, 0.25, 0.50, 0.75, 0.90, 0.95, 0.99])"
   ]
  },
  {
   "cell_type": "code",
   "execution_count": 42,
   "id": "d6f5a751-d879-4043-b17d-9141544ecba2",
   "metadata": {},
   "outputs": [
    {
     "data": {
      "image/png": "[encoded data removed]",
      "text/plain": [
       "<Figure size 576x432 with 1 Axes>"
      ]
     },
     "metadata": {
      "needs_background": "light"
     },
     "output_type": "display_data"
    }
   ],
   "source": [
    "# distribution of the Balance for not churn \n",
    "pyplot.figure(figsize=(8,6))\n",
    "pyplot.xlabel('Balance')\n",
    "pyplot.hist(not_churn['Balance'], bins=15, alpha=0.7, label='Not Churn', color='green')\n",
    "pyplot.legend(loc='upper right')\n",
    "pyplot.show()"
   ]
  },
  {
   "cell_type": "code",
   "execution_count": 43,
   "id": "0760df32-e6b8-434c-8e1d-2440896a6040",
   "metadata": {},
   "outputs": [
    {
     "data": {
      "text/plain": [
       "count      2037.000000\n",
       "mean      91108.539337\n",
       "std       58360.794816\n",
       "min           0.000000\n",
       "5%            0.000000\n",
       "25%       38340.020000\n",
       "50%      109349.290000\n",
       "75%      131433.330000\n",
       "90%      152080.618000\n",
       "95%      167698.240000\n",
       "99%      197355.288400\n",
       "max      250898.090000\n",
       "Name: Balance, dtype: float64"
      ]
     },
     "execution_count": 43,
     "metadata": {},
     "output_type": "execute_result"
    }
   ],
   "source": [
    "# Examining the Balance of the churn group \n",
    "churn['Balance'].describe([0.05,0.25,0.50,0.75,0.90,0.95,0.99])"
   ]
  },
  {
   "cell_type": "code",
   "execution_count": null,
   "id": "f684e3e5-40a9-4e32-81be-6d8762f88d9c",
   "metadata": {},
   "outputs": [],
   "source": []
  },
  {
   "cell_type": "code",
   "execution_count": 44,
   "id": "141305b3-4ba4-4ae4-b5a7-5aa7c8815664",
   "metadata": {},
   "outputs": [
    {
     "data": {
      "image/png": "[encoded data removed]",
      "text/plain": [
       "<Figure size 576x432 with 1 Axes>"
      ]
     },
     "metadata": {
      "needs_background": "light"
     },
     "output_type": "display_data"
    }
   ],
   "source": [
    "# Distribution of the Balance for churn \n",
    "pyplot.figure(figsize=(8,6))\n",
    "pyplot.xlabel('Balance')\n",
    "pyplot.hist(churn['Balance'], bins=15, alpha=0.7, label='Churn')\n",
    "pyplot.legend(loc='upper right')\n",
    "pyplot.show()"
   ]
  },
  {
   "cell_type": "code",
   "execution_count": 45,
   "id": "ad12f5db-bee0-4eaa-90b0-b84f9b65484d",
   "metadata": {},
   "outputs": [
    {
     "data": {
      "text/plain": [
       "<seaborn.axisgrid.FacetGrid at 0x7fa3c58cd1e0>"
      ]
     },
     "execution_count": 45,
     "metadata": {},
     "output_type": "execute_result"
    },
    {
     "data": {
      "image/png": "[encoded data removed]",
      "text/plain": [
       "<Figure size 368x360 with 1 Axes>"
      ]
     },
     "metadata": {
      "needs_background": "light"
     },
     "output_type": "display_data"
    }
   ],
   "source": [
    "sns.catplot(data=df, x=\"Exited\", y=\"Balance\")"
   ]
  },
  {
   "cell_type": "code",
   "execution_count": null,
   "id": "f82b12de-f20e-4c4b-babe-64daf78dbbef",
   "metadata": {},
   "outputs": [],
   "source": []
  },
  {
   "cell_type": "code",
   "execution_count": 46,
   "id": "a1461873-fa8b-4a98-be3a-5cc7458cf682",
   "metadata": {},
   "outputs": [
    {
     "data": {
      "text/plain": [
       "count      7963.000000\n",
       "mean      99738.391772\n",
       "std       57405.586966\n",
       "min          90.070000\n",
       "5%         9773.542000\n",
       "25%       50783.490000\n",
       "50%       99645.040000\n",
       "75%      148609.955000\n",
       "90%      179453.212000\n",
       "95%      190107.557000\n",
       "99%      198131.465200\n",
       "max      199992.480000\n",
       "Name: EstimatedSalary, dtype: float64"
      ]
     },
     "execution_count": 46,
     "metadata": {},
     "output_type": "execute_result"
    }
   ],
   "source": [
    "# examining the EstimetedSalary of the not_churn group\n",
    "not_churn['EstimatedSalary'].describe([0.05,0.25,0.50,0.75,0.90,0.95,0.99])"
   ]
  },
  {
   "cell_type": "code",
   "execution_count": 47,
   "id": "c67f7e39-5179-4f27-8a93-f31a6fa1ef92",
   "metadata": {},
   "outputs": [
    {
     "data": {
      "image/png": "[encoded data removed]",
      "text/plain": [
       "<Figure size 576x432 with 1 Axes>"
      ]
     },
     "metadata": {
      "needs_background": "light"
     },
     "output_type": "display_data"
    }
   ],
   "source": [
    "# distribution of the Balance for churn \n",
    "pyplot.figure(figsize=(8,6))\n",
    "pyplot.xlabel('EstimatedSalary')\n",
    "pyplot.hist(not_churn['EstimatedSalary'],bins=15, alpha=0.7, label='Not Churn', color='green')\n",
    "pyplot.legend(loc='upper right')\n",
    "pyplot.show()"
   ]
  },
  {
   "cell_type": "code",
   "execution_count": 48,
   "id": "2b35231c-0ff0-4a44-85ec-80e6c0511701",
   "metadata": {},
   "outputs": [
    {
     "data": {
      "text/plain": [
       "count      2037.000000\n",
       "mean     101465.677531\n",
       "std       57912.418071\n",
       "min          11.580000\n",
       "5%        10030.760000\n",
       "25%       51907.720000\n",
       "50%      102460.840000\n",
       "75%      152422.910000\n",
       "90%      180169.390000\n",
       "95%      190328.982000\n",
       "99%      197717.297600\n",
       "max      199808.100000\n",
       "Name: EstimatedSalary, dtype: float64"
      ]
     },
     "execution_count": 48,
     "metadata": {},
     "output_type": "execute_result"
    }
   ],
   "source": [
    "# Examining the EstimatedSalary of the churn group \n",
    "churn['EstimatedSalary'].describe([0.05,0.25,0.50,0.75,0.90,0.95,0.99])"
   ]
  },
  {
   "cell_type": "code",
   "execution_count": 49,
   "id": "97c52062-e758-4b2f-810a-78d2a62189b6",
   "metadata": {},
   "outputs": [
    {
     "data": {
      "image/png": "[encoded data removed]",
      "text/plain": [
       "<Figure size 576x432 with 1 Axes>"
      ]
     },
     "metadata": {
      "needs_background": "light"
     },
     "output_type": "display_data"
    }
   ],
   "source": [
    "# distribution of the EstimatedSalary for churn \n",
    "pyplot.figure(figsize=(8,6))\n",
    "pyplot.xlabel('EstimatedSalary')\n",
    "pyplot.hist(churn['EstimatedSalary'],bins=15, alpha=0.7, label='Churn')\n",
    "pyplot.legend(loc='upper right')\n",
    "pyplot.show()"
   ]
  },
  {
   "cell_type": "code",
   "execution_count": 50,
   "id": "63d1cf39-36de-476a-b823-c9a7e2031296",
   "metadata": {},
   "outputs": [
    {
     "data": {
      "text/plain": [
       "<seaborn.axisgrid.FacetGrid at 0x7fa3c37a5330>"
      ]
     },
     "execution_count": 50,
     "metadata": {},
     "output_type": "execute_result"
    },
    {
     "data": {
      "image/png": "[encoded data removed]",
      "text/plain": [
       "<Figure size 368x360 with 1 Axes>"
      ]
     },
     "metadata": {
      "needs_background": "light"
     },
     "output_type": "display_data"
    }
   ],
   "source": [
    "sns.catplot(data=df, x='Exited', y='EstimatedSalary')"
   ]
  },
  {
   "cell_type": "code",
   "execution_count": 51,
   "id": "546c1d8e-107e-441f-85fc-cdd3a85e5597",
   "metadata": {},
   "outputs": [
    {
     "data": {
      "text/plain": [
       "<Axes: >"
      ]
     },
     "execution_count": 51,
     "metadata": {},
     "output_type": "execute_result"
    },
    {
     "data": {
      "image/png": "[encoded data removed]",
      "text/plain": [
       "<Figure size 720x432 with 2 Axes>"
      ]
     },
     "metadata": {
      "needs_background": "light"
     },
     "output_type": "display_data"
    }
   ],
   "source": [
    "# Exited correlation matrix\n",
    "k = 10 #number of variables for heatmap\n",
    "cols = df.select_dtypes(include=['int64', 'float64']).corr().nlargest(k, 'Exited')['Exited'].index\n",
    "cm = df[cols].corr(method='spearman')  # Use 'spearman' for non-parametric correlation\n",
    "plt.figure(figsize=(10,6))\n",
    "sns.heatmap(cm, annot=True, cmap = 'viridis')"
   ]
  },
  {
   "cell_type": "code",
   "execution_count": 52,
   "id": "369b59ab-6e21-4370-8c19-d04ff2ae691a",
   "metadata": {},
   "outputs": [
    {
     "data": {
      "text/plain": [
       "CustomerId         0\n",
       "Surname            0\n",
       "CreditScore        0\n",
       "Geography          0\n",
       "Gender             0\n",
       "Age                0\n",
       "Tenure             0\n",
       "Balance            0\n",
       "NumOfProducts      0\n",
       "HasCrCard          0\n",
       "IsActiveMember     0\n",
       "EstimatedSalary    0\n",
       "Exited             0\n",
       "dtype: int64"
      ]
     },
     "execution_count": 52,
     "metadata": {},
     "output_type": "execute_result"
    }
   ],
   "source": [
    "df.isnull().sum()"
   ]
  },
  {
   "cell_type": "code",
   "execution_count": 53,
   "id": "d5c23359-f6fd-4a1f-abe7-1c49772d8bbe",
   "metadata": {},
   "outputs": [],
   "source": [
    "# To determine the threshold value for outliers\n",
    "def outlier_thresholds(dataframe, variable, low_quantile=0.05, up_quantile=0.95):\n",
    "    quantile_one = dataframe[variable].quantile(low_quantile)\n",
    "    quantile_three = dataframe[variable].quantile(up_quantile)\n",
    "    interquantile_range = quantile_three - quantile_one\n",
    "    up_limit = quantile_three + 1.5 * interquantile_range\n",
    "    low_limit = quantile_one - 1.5 * interquantile_range\n",
    "    return low_limit, up_limit"
   ]
  },
  {
   "cell_type": "code",
   "execution_count": 54,
   "id": "9227fe2e-d7f8-4e06-aefa-e22e77b27189",
   "metadata": {},
   "outputs": [],
   "source": [
    "# Are there any outliers in the variables\n",
    "def has_outliers(dataframe, numeric_columns, plot=False):\n",
    "   # variable_names = []\n",
    "    for col in numeric_columns:\n",
    "        low_limit, up_limit = outlier_thresholds(dataframe, col)\n",
    "        if dataframe[(dataframe[col] > up_limit) | (dataframe[col] < low_limit)].any(axis=None):\n",
    "            number_of_outliers = dataframe[(dataframe[col] > up_limit) | (dataframe[col] < low_limit)].shape[0]\n",
    "            print(col, \" : \", number_of_outliers, \"outliers\")\n",
    "            #variable_names.append(col)\n",
    "            if plot:\n",
    "                sns.boxplot(x=dataframe[col])\n",
    "                plt.show()\n",
    "    #return variable_names"
   ]
  },
  {
   "cell_type": "code",
   "execution_count": 55,
   "id": "29201f2f-7a97-4aae-8839-31a79b47b3ca",
   "metadata": {},
   "outputs": [
    {
     "name": "stdout",
     "output_type": "stream",
     "text": [
      "CustomerId has  None Outliers\n",
      "CreditScore has  None Outliers\n",
      "Age has  None Outliers\n",
      "Balance has  None Outliers\n",
      "EstimatedSalary has  None Outliers\n"
     ]
    }
   ],
   "source": [
    "# There is no outlier\n",
    "for var in numeric_variables:\n",
    "    print(var, \"has \" , has_outliers(df, [var]),  \"Outliers\")"
   ]
  },
  {
   "cell_type": "code",
   "execution_count": 56,
   "id": "b4653507-4971-4481-a057-7bbc122c1800",
   "metadata": {},
   "outputs": [],
   "source": [
    "# we standardize tenure with age\n",
    "df[\"NewTenure\"] = df[\"Tenure\"]/df[\"Age\"]\n",
    "df[\"NewCreditsScore\"] = pd.qcut(df['CreditScore'], 6, labels = [1, 2, 3, 4, 5, 6])\n",
    "df[\"NewAgeScore\"] = pd.qcut(df['Age'], 8, labels = [1, 2, 3, 4, 5, 6, 7, 8])\n",
    "df[\"NewBalanceScore\"] = pd.qcut(df['Balance'].rank(method=\"first\"), 5, labels = [1, 2, 3, 4, 5])\n",
    "df[\"NewEstSalaryScore\"] = pd.qcut(df['EstimatedSalary'], 10, labels = [1, 2, 3, 4, 5, 6, 7, 8, 9, 10])"
   ]
  },
  {
   "cell_type": "code",
   "execution_count": 57,
   "id": "2cb537e8-b6ab-41ae-83c7-50b102db4478",
   "metadata": {},
   "outputs": [
    {
     "data": {
      "text/html": [
       "<div>\n",
       "<style scoped>\n",
       "    .dataframe tbody tr th:only-of-type {\n",
       "        vertical-align: middle;\n",
       "    }\n",
       "\n",
       "    .dataframe tbody tr th {\n",
       "        vertical-align: top;\n",
       "    }\n",
       "\n",
       "    .dataframe thead th {\n",
       "        text-align: right;\n",
       "    }\n",
       "</style>\n",
       "<table border=\"1\" class=\"dataframe\">\n",
       "  <thead>\n",
       "    <tr style=\"text-align: right;\">\n",
       "      <th></th>\n",
       "      <th>CustomerId</th>\n",
       "      <th>Surname</th>\n",
       "      <th>CreditScore</th>\n",
       "      <th>Geography</th>\n",
       "      <th>Gender</th>\n",
       "      <th>Age</th>\n",
       "      <th>Tenure</th>\n",
       "      <th>Balance</th>\n",
       "      <th>NumOfProducts</th>\n",
       "      <th>HasCrCard</th>\n",
       "      <th>IsActiveMember</th>\n",
       "      <th>EstimatedSalary</th>\n",
       "      <th>Exited</th>\n",
       "      <th>NewTenure</th>\n",
       "      <th>NewCreditsScore</th>\n",
       "      <th>NewAgeScore</th>\n",
       "      <th>NewBalanceScore</th>\n",
       "      <th>NewEstSalaryScore</th>\n",
       "    </tr>\n",
       "    <tr>\n",
       "      <th>RowNumber</th>\n",
       "      <th></th>\n",
       "      <th></th>\n",
       "      <th></th>\n",
       "      <th></th>\n",
       "      <th></th>\n",
       "      <th></th>\n",
       "      <th></th>\n",
       "      <th></th>\n",
       "      <th></th>\n",
       "      <th></th>\n",
       "      <th></th>\n",
       "      <th></th>\n",
       "      <th></th>\n",
       "      <th></th>\n",
       "      <th></th>\n",
       "      <th></th>\n",
       "      <th></th>\n",
       "      <th></th>\n",
       "    </tr>\n",
       "  </thead>\n",
       "  <tbody>\n",
       "    <tr>\n",
       "      <th>1</th>\n",
       "      <td>15634602</td>\n",
       "      <td>Hargrave</td>\n",
       "      <td>619</td>\n",
       "      <td>France</td>\n",
       "      <td>Female</td>\n",
       "      <td>42</td>\n",
       "      <td>2</td>\n",
       "      <td>0.00</td>\n",
       "      <td>1</td>\n",
       "      <td>1</td>\n",
       "      <td>1</td>\n",
       "      <td>101348.88</td>\n",
       "      <td>1</td>\n",
       "      <td>0.047619</td>\n",
       "      <td>3</td>\n",
       "      <td>6</td>\n",
       "      <td>1</td>\n",
       "      <td>6</td>\n",
       "    </tr>\n",
       "    <tr>\n",
       "      <th>2</th>\n",
       "      <td>15647311</td>\n",
       "      <td>Hill</td>\n",
       "      <td>608</td>\n",
       "      <td>Spain</td>\n",
       "      <td>Female</td>\n",
       "      <td>41</td>\n",
       "      <td>1</td>\n",
       "      <td>83807.86</td>\n",
       "      <td>1</td>\n",
       "      <td>0</td>\n",
       "      <td>1</td>\n",
       "      <td>112542.58</td>\n",
       "      <td>0</td>\n",
       "      <td>0.024390</td>\n",
       "      <td>2</td>\n",
       "      <td>6</td>\n",
       "      <td>3</td>\n",
       "      <td>6</td>\n",
       "    </tr>\n",
       "    <tr>\n",
       "      <th>3</th>\n",
       "      <td>15619304</td>\n",
       "      <td>Onio</td>\n",
       "      <td>502</td>\n",
       "      <td>France</td>\n",
       "      <td>Female</td>\n",
       "      <td>42</td>\n",
       "      <td>8</td>\n",
       "      <td>159660.80</td>\n",
       "      <td>3</td>\n",
       "      <td>1</td>\n",
       "      <td>0</td>\n",
       "      <td>113931.57</td>\n",
       "      <td>1</td>\n",
       "      <td>0.190476</td>\n",
       "      <td>1</td>\n",
       "      <td>6</td>\n",
       "      <td>5</td>\n",
       "      <td>6</td>\n",
       "    </tr>\n",
       "    <tr>\n",
       "      <th>4</th>\n",
       "      <td>15701354</td>\n",
       "      <td>Boni</td>\n",
       "      <td>699</td>\n",
       "      <td>France</td>\n",
       "      <td>Female</td>\n",
       "      <td>39</td>\n",
       "      <td>1</td>\n",
       "      <td>0.00</td>\n",
       "      <td>2</td>\n",
       "      <td>0</td>\n",
       "      <td>0</td>\n",
       "      <td>93826.63</td>\n",
       "      <td>0</td>\n",
       "      <td>0.025641</td>\n",
       "      <td>5</td>\n",
       "      <td>5</td>\n",
       "      <td>1</td>\n",
       "      <td>5</td>\n",
       "    </tr>\n",
       "    <tr>\n",
       "      <th>5</th>\n",
       "      <td>15737888</td>\n",
       "      <td>Mitchell</td>\n",
       "      <td>850</td>\n",
       "      <td>Spain</td>\n",
       "      <td>Female</td>\n",
       "      <td>43</td>\n",
       "      <td>2</td>\n",
       "      <td>125510.82</td>\n",
       "      <td>1</td>\n",
       "      <td>1</td>\n",
       "      <td>1</td>\n",
       "      <td>79084.10</td>\n",
       "      <td>0</td>\n",
       "      <td>0.046512</td>\n",
       "      <td>6</td>\n",
       "      <td>6</td>\n",
       "      <td>4</td>\n",
       "      <td>4</td>\n",
       "    </tr>\n",
       "  </tbody>\n",
       "</table>\n",
       "</div>"
      ],
      "text/plain": [
       "           CustomerId   Surname  CreditScore Geography  Gender  Age  Tenure  \\\n",
       "RowNumber                                                                     \n",
       "1            15634602  Hargrave          619    France  Female   42       2   \n",
       "2            15647311      Hill          608     Spain  Female   41       1   \n",
       "3            15619304      Onio          502    France  Female   42       8   \n",
       "4            15701354      Boni          699    France  Female   39       1   \n",
       "5            15737888  Mitchell          850     Spain  Female   43       2   \n",
       "\n",
       "             Balance  NumOfProducts  HasCrCard  IsActiveMember  \\\n",
       "RowNumber                                                        \n",
       "1               0.00              1          1               1   \n",
       "2           83807.86              1          0               1   \n",
       "3          159660.80              3          1               0   \n",
       "4               0.00              2          0               0   \n",
       "5          125510.82              1          1               1   \n",
       "\n",
       "           EstimatedSalary  Exited  NewTenure NewCreditsScore NewAgeScore  \\\n",
       "RowNumber                                                                   \n",
       "1                101348.88       1   0.047619               3           6   \n",
       "2                112542.58       0   0.024390               2           6   \n",
       "3                113931.57       1   0.190476               1           6   \n",
       "4                 93826.63       0   0.025641               5           5   \n",
       "5                 79084.10       0   0.046512               6           6   \n",
       "\n",
       "          NewBalanceScore NewEstSalaryScore  \n",
       "RowNumber                                    \n",
       "1                       1                 6  \n",
       "2                       3                 6  \n",
       "3                       5                 6  \n",
       "4                       1                 5  \n",
       "5                       4                 4  "
      ]
     },
     "execution_count": 57,
     "metadata": {},
     "output_type": "execute_result"
    }
   ],
   "source": [
    "df.head()"
   ]
  },
  {
   "cell_type": "code",
   "execution_count": 58,
   "id": "7bd5c3b3-6bc1-47e1-827e-fa3bd66f7a52",
   "metadata": {},
   "outputs": [],
   "source": [
    "# Variables to apply one hot encoding\n",
    "list = [\"Gender\", \"Geography\"]\n",
    "df = pd.get_dummies(df, columns =list, drop_first = True)"
   ]
  },
  {
   "cell_type": "code",
   "execution_count": 59,
   "id": "744a8a3c-aec0-462e-852b-039dd99ef383",
   "metadata": {},
   "outputs": [
    {
     "data": {
      "text/html": [
       "<div>\n",
       "<style scoped>\n",
       "    .dataframe tbody tr th:only-of-type {\n",
       "        vertical-align: middle;\n",
       "    }\n",
       "\n",
       "    .dataframe tbody tr th {\n",
       "        vertical-align: top;\n",
       "    }\n",
       "\n",
       "    .dataframe thead th {\n",
       "        text-align: right;\n",
       "    }\n",
       "</style>\n",
       "<table border=\"1\" class=\"dataframe\">\n",
       "  <thead>\n",
       "    <tr style=\"text-align: right;\">\n",
       "      <th></th>\n",
       "      <th>CustomerId</th>\n",
       "      <th>Surname</th>\n",
       "      <th>CreditScore</th>\n",
       "      <th>Age</th>\n",
       "      <th>Tenure</th>\n",
       "      <th>Balance</th>\n",
       "      <th>NumOfProducts</th>\n",
       "      <th>HasCrCard</th>\n",
       "      <th>IsActiveMember</th>\n",
       "      <th>EstimatedSalary</th>\n",
       "      <th>Exited</th>\n",
       "      <th>NewTenure</th>\n",
       "      <th>NewCreditsScore</th>\n",
       "      <th>NewAgeScore</th>\n",
       "      <th>NewBalanceScore</th>\n",
       "      <th>NewEstSalaryScore</th>\n",
       "      <th>Gender_Male</th>\n",
       "      <th>Geography_Germany</th>\n",
       "      <th>Geography_Spain</th>\n",
       "    </tr>\n",
       "    <tr>\n",
       "      <th>RowNumber</th>\n",
       "      <th></th>\n",
       "      <th></th>\n",
       "      <th></th>\n",
       "      <th></th>\n",
       "      <th></th>\n",
       "      <th></th>\n",
       "      <th></th>\n",
       "      <th></th>\n",
       "      <th></th>\n",
       "      <th></th>\n",
       "      <th></th>\n",
       "      <th></th>\n",
       "      <th></th>\n",
       "      <th></th>\n",
       "      <th></th>\n",
       "      <th></th>\n",
       "      <th></th>\n",
       "      <th></th>\n",
       "      <th></th>\n",
       "    </tr>\n",
       "  </thead>\n",
       "  <tbody>\n",
       "    <tr>\n",
       "      <th>1</th>\n",
       "      <td>15634602</td>\n",
       "      <td>Hargrave</td>\n",
       "      <td>619</td>\n",
       "      <td>42</td>\n",
       "      <td>2</td>\n",
       "      <td>0.00</td>\n",
       "      <td>1</td>\n",
       "      <td>1</td>\n",
       "      <td>1</td>\n",
       "      <td>101348.88</td>\n",
       "      <td>1</td>\n",
       "      <td>0.047619</td>\n",
       "      <td>3</td>\n",
       "      <td>6</td>\n",
       "      <td>1</td>\n",
       "      <td>6</td>\n",
       "      <td>False</td>\n",
       "      <td>False</td>\n",
       "      <td>False</td>\n",
       "    </tr>\n",
       "    <tr>\n",
       "      <th>2</th>\n",
       "      <td>15647311</td>\n",
       "      <td>Hill</td>\n",
       "      <td>608</td>\n",
       "      <td>41</td>\n",
       "      <td>1</td>\n",
       "      <td>83807.86</td>\n",
       "      <td>1</td>\n",
       "      <td>0</td>\n",
       "      <td>1</td>\n",
       "      <td>112542.58</td>\n",
       "      <td>0</td>\n",
       "      <td>0.024390</td>\n",
       "      <td>2</td>\n",
       "      <td>6</td>\n",
       "      <td>3</td>\n",
       "      <td>6</td>\n",
       "      <td>False</td>\n",
       "      <td>False</td>\n",
       "      <td>True</td>\n",
       "    </tr>\n",
       "    <tr>\n",
       "      <th>3</th>\n",
       "      <td>15619304</td>\n",
       "      <td>Onio</td>\n",
       "      <td>502</td>\n",
       "      <td>42</td>\n",
       "      <td>8</td>\n",
       "      <td>159660.80</td>\n",
       "      <td>3</td>\n",
       "      <td>1</td>\n",
       "      <td>0</td>\n",
       "      <td>113931.57</td>\n",
       "      <td>1</td>\n",
       "      <td>0.190476</td>\n",
       "      <td>1</td>\n",
       "      <td>6</td>\n",
       "      <td>5</td>\n",
       "      <td>6</td>\n",
       "      <td>False</td>\n",
       "      <td>False</td>\n",
       "      <td>False</td>\n",
       "    </tr>\n",
       "    <tr>\n",
       "      <th>4</th>\n",
       "      <td>15701354</td>\n",
       "      <td>Boni</td>\n",
       "      <td>699</td>\n",
       "      <td>39</td>\n",
       "      <td>1</td>\n",
       "      <td>0.00</td>\n",
       "      <td>2</td>\n",
       "      <td>0</td>\n",
       "      <td>0</td>\n",
       "      <td>93826.63</td>\n",
       "      <td>0</td>\n",
       "      <td>0.025641</td>\n",
       "      <td>5</td>\n",
       "      <td>5</td>\n",
       "      <td>1</td>\n",
       "      <td>5</td>\n",
       "      <td>False</td>\n",
       "      <td>False</td>\n",
       "      <td>False</td>\n",
       "    </tr>\n",
       "    <tr>\n",
       "      <th>5</th>\n",
       "      <td>15737888</td>\n",
       "      <td>Mitchell</td>\n",
       "      <td>850</td>\n",
       "      <td>43</td>\n",
       "      <td>2</td>\n",
       "      <td>125510.82</td>\n",
       "      <td>1</td>\n",
       "      <td>1</td>\n",
       "      <td>1</td>\n",
       "      <td>79084.10</td>\n",
       "      <td>0</td>\n",
       "      <td>0.046512</td>\n",
       "      <td>6</td>\n",
       "      <td>6</td>\n",
       "      <td>4</td>\n",
       "      <td>4</td>\n",
       "      <td>False</td>\n",
       "      <td>False</td>\n",
       "      <td>True</td>\n",
       "    </tr>\n",
       "  </tbody>\n",
       "</table>\n",
       "</div>"
      ],
      "text/plain": [
       "           CustomerId   Surname  CreditScore  Age  Tenure    Balance  \\\n",
       "RowNumber                                                              \n",
       "1            15634602  Hargrave          619   42       2       0.00   \n",
       "2            15647311      Hill          608   41       1   83807.86   \n",
       "3            15619304      Onio          502   42       8  159660.80   \n",
       "4            15701354      Boni          699   39       1       0.00   \n",
       "5            15737888  Mitchell          850   43       2  125510.82   \n",
       "\n",
       "           NumOfProducts  HasCrCard  IsActiveMember  EstimatedSalary  Exited  \\\n",
       "RowNumber                                                                      \n",
       "1                      1          1               1        101348.88       1   \n",
       "2                      1          0               1        112542.58       0   \n",
       "3                      3          1               0        113931.57       1   \n",
       "4                      2          0               0         93826.63       0   \n",
       "5                      1          1               1         79084.10       0   \n",
       "\n",
       "           NewTenure NewCreditsScore NewAgeScore NewBalanceScore  \\\n",
       "RowNumber                                                          \n",
       "1           0.047619               3           6               1   \n",
       "2           0.024390               2           6               3   \n",
       "3           0.190476               1           6               5   \n",
       "4           0.025641               5           5               1   \n",
       "5           0.046512               6           6               4   \n",
       "\n",
       "          NewEstSalaryScore  Gender_Male  Geography_Germany  Geography_Spain  \n",
       "RowNumber                                                                     \n",
       "1                         6        False              False            False  \n",
       "2                         6        False              False             True  \n",
       "3                         6        False              False            False  \n",
       "4                         5        False              False            False  \n",
       "5                         4        False              False             True  "
      ]
     },
     "execution_count": 59,
     "metadata": {},
     "output_type": "execute_result"
    }
   ],
   "source": [
    "df.head()\n"
   ]
  },
  {
   "cell_type": "code",
   "execution_count": 60,
   "id": "b6691f0f-1775-43bd-aebc-34720b618a12",
   "metadata": {},
   "outputs": [],
   "source": [
    "# Removing variable that will not affect the dependent variable\n",
    "df = df.drop([\"CustomerId\", \"Surname\"], axis=1, errors='ignore')"
   ]
  },
  {
   "cell_type": "code",
   "execution_count": 61,
   "id": "ca3cb7c7-9d1f-432c-9b72-7c78bae33f23",
   "metadata": {},
   "outputs": [],
   "source": [
    "# Scale features using statistics that are robust to outliers.\n",
    "def robust_scaler(variable):\n",
    "    var_median = variable.median()\n",
    "    quartile1 = variable.quantile(0.25)\n",
    "    quartile3 = variable.quantile(0.75)\n",
    "    interquantile_range = quartile3 - quartile1\n",
    "    if int(interquantile_range) == 0:\n",
    "        quartile1 = variable.quantile(0.05)\n",
    "        quartile3 = variable.quantile(0.95)\n",
    "        interquantile_range = quartile3 - quartile1\n",
    "        if int(interquantile_range) == 0:\n",
    "            quartile1 = variable.quantile(0.01)\n",
    "            quartile3 = variable.quantile(0.99)\n",
    "            interquantile_range = quartile3 - quartile1\n",
    "            z = (variable - var_median) / interquantile_range\n",
    "            return round(z, 3)\n",
    "\n",
    "        z = (variable - var_median) / interquantile_range\n",
    "        return round(z, 3)\n",
    "    else:\n",
    "        z = (variable - var_median) / interquantile_range\n",
    "    return round(z, 3)\n",
    "            "
   ]
  },
  {
   "cell_type": "code",
   "execution_count": 62,
   "id": "beaa5f45-837e-4646-b0ef-fd56d3faea45",
   "metadata": {},
   "outputs": [],
   "source": [
    "new_cols_ohe = [\"Gender_Male\",\"Geography_Germany\",\"Geography_Spain\"]\n",
    "like_num = [col for col in df.columns if df[col].dtypes != 'O' and len(df[col].value_counts()) <= 10]\n",
    "cols_need_scale = [col for col in df.columns if col not in new_cols_ohe\n",
    "                   and col not in \"Exited\"\n",
    "                   and col not in like_num]\n",
    "\n",
    "for col in cols_need_scale:\n",
    "    df[col] = robust_scaler(df[col])"
   ]
  },
  {
   "cell_type": "code",
   "execution_count": 63,
   "id": "14987e77-4eae-4e5d-84ff-a0619343196d",
   "metadata": {},
   "outputs": [
    {
     "data": {
      "text/html": [
       "<div>\n",
       "<style scoped>\n",
       "    .dataframe tbody tr th:only-of-type {\n",
       "        vertical-align: middle;\n",
       "    }\n",
       "\n",
       "    .dataframe tbody tr th {\n",
       "        vertical-align: top;\n",
       "    }\n",
       "\n",
       "    .dataframe thead th {\n",
       "        text-align: right;\n",
       "    }\n",
       "</style>\n",
       "<table border=\"1\" class=\"dataframe\">\n",
       "  <thead>\n",
       "    <tr style=\"text-align: right;\">\n",
       "      <th></th>\n",
       "      <th>CreditScore</th>\n",
       "      <th>Age</th>\n",
       "      <th>Tenure</th>\n",
       "      <th>Balance</th>\n",
       "      <th>NumOfProducts</th>\n",
       "      <th>HasCrCard</th>\n",
       "      <th>IsActiveMember</th>\n",
       "      <th>EstimatedSalary</th>\n",
       "      <th>Exited</th>\n",
       "      <th>NewTenure</th>\n",
       "      <th>NewCreditsScore</th>\n",
       "      <th>NewAgeScore</th>\n",
       "      <th>NewBalanceScore</th>\n",
       "      <th>NewEstSalaryScore</th>\n",
       "      <th>Gender_Male</th>\n",
       "      <th>Geography_Germany</th>\n",
       "      <th>Geography_Spain</th>\n",
       "    </tr>\n",
       "    <tr>\n",
       "      <th>RowNumber</th>\n",
       "      <th></th>\n",
       "      <th></th>\n",
       "      <th></th>\n",
       "      <th></th>\n",
       "      <th></th>\n",
       "      <th></th>\n",
       "      <th></th>\n",
       "      <th></th>\n",
       "      <th></th>\n",
       "      <th></th>\n",
       "      <th></th>\n",
       "      <th></th>\n",
       "      <th></th>\n",
       "      <th></th>\n",
       "      <th></th>\n",
       "      <th></th>\n",
       "      <th></th>\n",
       "    </tr>\n",
       "  </thead>\n",
       "  <tbody>\n",
       "    <tr>\n",
       "      <th>1</th>\n",
       "      <td>-0.246</td>\n",
       "      <td>0.417</td>\n",
       "      <td>-0.75</td>\n",
       "      <td>-0.761</td>\n",
       "      <td>1</td>\n",
       "      <td>1</td>\n",
       "      <td>1</td>\n",
       "      <td>0.012</td>\n",
       "      <td>1</td>\n",
       "      <td>-0.217</td>\n",
       "      <td>3</td>\n",
       "      <td>6</td>\n",
       "      <td>1</td>\n",
       "      <td>6</td>\n",
       "      <td>False</td>\n",
       "      <td>False</td>\n",
       "      <td>False</td>\n",
       "    </tr>\n",
       "    <tr>\n",
       "      <th>2</th>\n",
       "      <td>-0.328</td>\n",
       "      <td>0.333</td>\n",
       "      <td>-1.00</td>\n",
       "      <td>-0.105</td>\n",
       "      <td>1</td>\n",
       "      <td>0</td>\n",
       "      <td>1</td>\n",
       "      <td>0.126</td>\n",
       "      <td>0</td>\n",
       "      <td>-0.279</td>\n",
       "      <td>2</td>\n",
       "      <td>6</td>\n",
       "      <td>3</td>\n",
       "      <td>6</td>\n",
       "      <td>False</td>\n",
       "      <td>False</td>\n",
       "      <td>True</td>\n",
       "    </tr>\n",
       "    <tr>\n",
       "      <th>3</th>\n",
       "      <td>-1.119</td>\n",
       "      <td>0.417</td>\n",
       "      <td>0.75</td>\n",
       "      <td>0.489</td>\n",
       "      <td>3</td>\n",
       "      <td>1</td>\n",
       "      <td>0</td>\n",
       "      <td>0.140</td>\n",
       "      <td>1</td>\n",
       "      <td>0.164</td>\n",
       "      <td>1</td>\n",
       "      <td>6</td>\n",
       "      <td>5</td>\n",
       "      <td>6</td>\n",
       "      <td>False</td>\n",
       "      <td>False</td>\n",
       "      <td>False</td>\n",
       "    </tr>\n",
       "    <tr>\n",
       "      <th>4</th>\n",
       "      <td>0.351</td>\n",
       "      <td>0.167</td>\n",
       "      <td>-1.00</td>\n",
       "      <td>-0.761</td>\n",
       "      <td>2</td>\n",
       "      <td>0</td>\n",
       "      <td>0</td>\n",
       "      <td>-0.065</td>\n",
       "      <td>0</td>\n",
       "      <td>-0.276</td>\n",
       "      <td>5</td>\n",
       "      <td>5</td>\n",
       "      <td>1</td>\n",
       "      <td>5</td>\n",
       "      <td>False</td>\n",
       "      <td>False</td>\n",
       "      <td>False</td>\n",
       "    </tr>\n",
       "    <tr>\n",
       "      <th>5</th>\n",
       "      <td>1.478</td>\n",
       "      <td>0.500</td>\n",
       "      <td>-0.75</td>\n",
       "      <td>0.222</td>\n",
       "      <td>1</td>\n",
       "      <td>1</td>\n",
       "      <td>1</td>\n",
       "      <td>-0.215</td>\n",
       "      <td>0</td>\n",
       "      <td>-0.220</td>\n",
       "      <td>6</td>\n",
       "      <td>6</td>\n",
       "      <td>4</td>\n",
       "      <td>4</td>\n",
       "      <td>False</td>\n",
       "      <td>False</td>\n",
       "      <td>True</td>\n",
       "    </tr>\n",
       "  </tbody>\n",
       "</table>\n",
       "</div>"
      ],
      "text/plain": [
       "           CreditScore    Age  Tenure  Balance  NumOfProducts  HasCrCard  \\\n",
       "RowNumber                                                                  \n",
       "1               -0.246  0.417   -0.75   -0.761              1          1   \n",
       "2               -0.328  0.333   -1.00   -0.105              1          0   \n",
       "3               -1.119  0.417    0.75    0.489              3          1   \n",
       "4                0.351  0.167   -1.00   -0.761              2          0   \n",
       "5                1.478  0.500   -0.75    0.222              1          1   \n",
       "\n",
       "           IsActiveMember  EstimatedSalary  Exited  NewTenure NewCreditsScore  \\\n",
       "RowNumber                                                                       \n",
       "1                       1            0.012       1     -0.217               3   \n",
       "2                       1            0.126       0     -0.279               2   \n",
       "3                       0            0.140       1      0.164               1   \n",
       "4                       0           -0.065       0     -0.276               5   \n",
       "5                       1           -0.215       0     -0.220               6   \n",
       "\n",
       "          NewAgeScore NewBalanceScore NewEstSalaryScore  Gender_Male  \\\n",
       "RowNumber                                                              \n",
       "1                   6               1                 6        False   \n",
       "2                   6               3                 6        False   \n",
       "3                   6               5                 6        False   \n",
       "4                   5               1                 5        False   \n",
       "5                   6               4                 4        False   \n",
       "\n",
       "           Geography_Germany  Geography_Spain  \n",
       "RowNumber                                      \n",
       "1                      False            False  \n",
       "2                      False             True  \n",
       "3                      False            False  \n",
       "4                      False            False  \n",
       "5                      False             True  "
      ]
     },
     "execution_count": 63,
     "metadata": {},
     "output_type": "execute_result"
    }
   ],
   "source": [
    "df.head()"
   ]
  },
  {
   "cell_type": "code",
   "execution_count": 66,
   "id": "6c930d07-886c-489e-9200-63c04401f231",
   "metadata": {},
   "outputs": [
    {
     "name": "stderr",
     "output_type": "stream",
     "text": [
      "/nfs/cms/mtech23/lute.gaurav/.local/lib/python3.10/site-packages/sklearn/linear_model/_logistic.py:469: ConvergenceWarning: lbfgs failed to converge (status=1):\n",
      "STOP: TOTAL NO. of ITERATIONS REACHED LIMIT.\n",
      "\n",
      "Increase the number of iterations (max_iter) or scale the data as shown in:\n",
      "    https://scikit-learn.org/stable/modules/preprocessing.html\n",
      "Please also refer to the documentation for alternative solver options:\n",
      "    https://scikit-learn.org/stable/modules/linear_model.html#logistic-regression\n",
      "  n_iter_i = _check_optimize_result(\n",
      "/nfs/cms/mtech23/lute.gaurav/.local/lib/python3.10/site-packages/sklearn/linear_model/_logistic.py:469: ConvergenceWarning: lbfgs failed to converge (status=1):\n",
      "STOP: TOTAL NO. of ITERATIONS REACHED LIMIT.\n",
      "\n",
      "Increase the number of iterations (max_iter) or scale the data as shown in:\n",
      "    https://scikit-learn.org/stable/modules/preprocessing.html\n",
      "Please also refer to the documentation for alternative solver options:\n",
      "    https://scikit-learn.org/stable/modules/linear_model.html#logistic-regression\n",
      "  n_iter_i = _check_optimize_result(\n",
      "/nfs/cms/mtech23/lute.gaurav/.local/lib/python3.10/site-packages/sklearn/linear_model/_logistic.py:469: ConvergenceWarning: lbfgs failed to converge (status=1):\n",
      "STOP: TOTAL NO. of ITERATIONS REACHED LIMIT.\n",
      "\n",
      "Increase the number of iterations (max_iter) or scale the data as shown in:\n",
      "    https://scikit-learn.org/stable/modules/preprocessing.html\n",
      "Please also refer to the documentation for alternative solver options:\n",
      "    https://scikit-learn.org/stable/modules/linear_model.html#logistic-regression\n",
      "  n_iter_i = _check_optimize_result(\n",
      "/nfs/cms/mtech23/lute.gaurav/.local/lib/python3.10/site-packages/sklearn/linear_model/_logistic.py:469: ConvergenceWarning: lbfgs failed to converge (status=1):\n",
      "STOP: TOTAL NO. of ITERATIONS REACHED LIMIT.\n",
      "\n",
      "Increase the number of iterations (max_iter) or scale the data as shown in:\n",
      "    https://scikit-learn.org/stable/modules/preprocessing.html\n",
      "Please also refer to the documentation for alternative solver options:\n",
      "    https://scikit-learn.org/stable/modules/linear_model.html#logistic-regression\n",
      "  n_iter_i = _check_optimize_result(\n",
      "/nfs/cms/mtech23/lute.gaurav/.local/lib/python3.10/site-packages/sklearn/linear_model/_logistic.py:469: ConvergenceWarning: lbfgs failed to converge (status=1):\n",
      "STOP: TOTAL NO. of ITERATIONS REACHED LIMIT.\n",
      "\n",
      "Increase the number of iterations (max_iter) or scale the data as shown in:\n",
      "    https://scikit-learn.org/stable/modules/preprocessing.html\n",
      "Please also refer to the documentation for alternative solver options:\n",
      "    https://scikit-learn.org/stable/modules/linear_model.html#logistic-regression\n",
      "  n_iter_i = _check_optimize_result(\n",
      "/nfs/cms/mtech23/lute.gaurav/.local/lib/python3.10/site-packages/sklearn/linear_model/_logistic.py:469: ConvergenceWarning: lbfgs failed to converge (status=1):\n",
      "STOP: TOTAL NO. of ITERATIONS REACHED LIMIT.\n",
      "\n",
      "Increase the number of iterations (max_iter) or scale the data as shown in:\n",
      "    https://scikit-learn.org/stable/modules/preprocessing.html\n",
      "Please also refer to the documentation for alternative solver options:\n",
      "    https://scikit-learn.org/stable/modules/linear_model.html#logistic-regression\n",
      "  n_iter_i = _check_optimize_result(\n",
      "/nfs/cms/mtech23/lute.gaurav/.local/lib/python3.10/site-packages/sklearn/linear_model/_logistic.py:469: ConvergenceWarning: lbfgs failed to converge (status=1):\n",
      "STOP: TOTAL NO. of ITERATIONS REACHED LIMIT.\n",
      "\n",
      "Increase the number of iterations (max_iter) or scale the data as shown in:\n",
      "    https://scikit-learn.org/stable/modules/preprocessing.html\n",
      "Please also refer to the documentation for alternative solver options:\n",
      "    https://scikit-learn.org/stable/modules/linear_model.html#logistic-regression\n",
      "  n_iter_i = _check_optimize_result(\n",
      "/nfs/cms/mtech23/lute.gaurav/.local/lib/python3.10/site-packages/sklearn/linear_model/_logistic.py:469: ConvergenceWarning: lbfgs failed to converge (status=1):\n",
      "STOP: TOTAL NO. of ITERATIONS REACHED LIMIT.\n",
      "\n",
      "Increase the number of iterations (max_iter) or scale the data as shown in:\n",
      "    https://scikit-learn.org/stable/modules/preprocessing.html\n",
      "Please also refer to the documentation for alternative solver options:\n",
      "    https://scikit-learn.org/stable/modules/linear_model.html#logistic-regression\n",
      "  n_iter_i = _check_optimize_result(\n",
      "/nfs/cms/mtech23/lute.gaurav/.local/lib/python3.10/site-packages/sklearn/linear_model/_logistic.py:469: ConvergenceWarning: lbfgs failed to converge (status=1):\n",
      "STOP: TOTAL NO. of ITERATIONS REACHED LIMIT.\n",
      "\n",
      "Increase the number of iterations (max_iter) or scale the data as shown in:\n",
      "    https://scikit-learn.org/stable/modules/preprocessing.html\n",
      "Please also refer to the documentation for alternative solver options:\n",
      "    https://scikit-learn.org/stable/modules/linear_model.html#logistic-regression\n",
      "  n_iter_i = _check_optimize_result(\n",
      "/nfs/cms/mtech23/lute.gaurav/.local/lib/python3.10/site-packages/sklearn/linear_model/_logistic.py:469: ConvergenceWarning: lbfgs failed to converge (status=1):\n",
      "STOP: TOTAL NO. of ITERATIONS REACHED LIMIT.\n",
      "\n",
      "Increase the number of iterations (max_iter) or scale the data as shown in:\n",
      "    https://scikit-learn.org/stable/modules/preprocessing.html\n",
      "Please also refer to the documentation for alternative solver options:\n",
      "    https://scikit-learn.org/stable/modules/linear_model.html#logistic-regression\n",
      "  n_iter_i = _check_optimize_result(\n"
     ]
    },
    {
     "name": "stdout",
     "output_type": "stream",
     "text": [
      "LR: 0.827125 (0.018892)\n",
      "KNN: 0.821125 (0.017522)\n",
      "CART: 0.790000 (0.015114)\n",
      "RF: 0.861750 (0.013419)\n",
      "SVR: 0.844375 (0.016204)\n"
     ]
    }
   ],
   "source": [
    "X = df.drop(\"Exited\", axis=1)\n",
    "y = df[\"Exited\"]\n",
    "\n",
    "# Train-Test Separation\n",
    "X_train, X_test, y_train, y_test = train_test_split(X, y, test_size=0.20, random_state=12345)\n",
    "\n",
    "# Models for Classification\n",
    "models = [\n",
    "    ('LR', LogisticRegression(random_state=123456)),\n",
    "    ('KNN', KNeighborsClassifier()),\n",
    "    ('CART', DecisionTreeClassifier(random_state=123456)),\n",
    "    ('RF', RandomForestClassifier(random_state=123456)),\n",
    "    ('SVR', SVC(gamma='auto', random_state=123456))\n",
    "]\n",
    "\n",
    "results = []\n",
    "names = []\n",
    "for name, model in models:\n",
    "    # Choose appropriate approach based on your need for reproducibility\n",
    "    kfold = KFold(n_splits=10, random_state=123456, shuffle=True)  # Option 1 with shuffle\n",
    "    # kfold = KFold(n_splits=10)  # Option 2 without shuffle if not needed\n",
    "\n",
    "    cv_results = cross_val_score(model, X_train, y_train, cv=kfold)\n",
    "    results.append(cv_results)\n",
    "    names.append(name)\n",
    "    msg = \"%s: %f (%f)\" % (name, cv_results.mean(), cv_results.std())\n",
    "    print(msg)"
   ]
  },
  {
   "cell_type": "code",
   "execution_count": 67,
   "id": "5d1abc27-acd9-4944-b026-67464e0aeb3b",
   "metadata": {},
   "outputs": [
    {
     "data": {
      "text/plain": [
       "array([[1520,  230],\n",
       "       [  53,  197]])"
      ]
     },
     "execution_count": 67,
     "metadata": {},
     "output_type": "execute_result"
    }
   ],
   "source": [
    "# GB Confusion matrix\n",
    "model_GB = GradientBoostingClassifier(random_state=12345)\n",
    "model_GB.fit(X_train, y_train)\n",
    "y_pred = model_GB.predict(X_test)\n",
    "conf_mat = confusion_matrix(y_pred, y_test)\n",
    "conf_mat"
   ]
  },
  {
   "cell_type": "code",
   "execution_count": 68,
   "id": "1664016b-2f94-4e1d-aecd-34cd27b54bea",
   "metadata": {},
   "outputs": [
    {
     "name": "stdout",
     "output_type": "stream",
     "text": [
      "True Positive : 197\n",
      "True Negative : 1520\n",
      "False Positive: 230\n",
      "False Negative: 53\n"
     ]
    }
   ],
   "source": [
    "print('True Positive :', conf_mat[1, 1])\n",
    "print('True Negative :', conf_mat[0, 0])\n",
    "print('False Positive:', conf_mat[0, 1])\n",
    "print('False Negative:', conf_mat[1, 0])"
   ]
  },
  {
   "cell_type": "code",
   "execution_count": 69,
   "id": "be0bd6b5-ff95-4577-bd2b-c058bde99977",
   "metadata": {},
   "outputs": [
    {
     "name": "stdout",
     "output_type": "stream",
     "text": [
      "              precision    recall  f1-score   support\n",
      "\n",
      "           0       0.97      0.87      0.91      1750\n",
      "           1       0.46      0.79      0.58       250\n",
      "\n",
      "    accuracy                           0.86      2000\n",
      "   macro avg       0.71      0.83      0.75      2000\n",
      "weighted avg       0.90      0.86      0.87      2000\n",
      "\n"
     ]
    }
   ],
   "source": [
    "# Classification Report for XGB Model\n",
    "print(classification_report(model_GB.predict(X_test), y_test))"
   ]
  },
  {
   "cell_type": "code",
   "execution_count": null,
   "id": "477b9956-ccb8-4a6c-8542-08b3900ba47c",
   "metadata": {},
   "outputs": [],
   "source": []
  },
  {
   "cell_type": "code",
   "execution_count": null,
   "id": "2b904ec3-c89d-4d49-bd68-ec7a3c53fc7a",
   "metadata": {},
   "outputs": [],
   "source": []
  },
  {
   "cell_type": "code",
   "execution_count": 71,
   "id": "3e838d0a-72c7-4b5e-aab2-ae94fe3d385a",
   "metadata": {},
   "outputs": [],
   "source": [
    "# Auc Roc Curve \n",
    "def generate_auc_roc_curve(clf, X_test):\n",
    "    y_pred_proba = clf.predict_proba(X_test)[:, 1]\n",
    "    fpr, tpr, thresholds = roc_curve(y_test, y_pred_proba)\n",
    "    auc = roc_auc_score(y_test, y_pred_proba)\n",
    "    plt.plot(fpr, tpr, label='AUC ROC Curve with Area Under the curve ='+str(auc))\n",
    "    plt.legend(loc=4)\n",
    "    plt.show()\n",
    "    pass"
   ]
  },
  {
   "cell_type": "code",
   "execution_count": 72,
   "id": "24e0f27e-b7fe-4339-9062-6fdd88a789eb",
   "metadata": {},
   "outputs": [
    {
     "data": {
      "image/png": "[encoded data removed]",
      "text/plain": [
       "<Figure size 432x288 with 1 Axes>"
      ]
     },
     "metadata": {
      "needs_background": "light"
     },
     "output_type": "display_data"
    }
   ],
   "source": [
    "generate_auc_roc_curve(model_GB, X_test)"
   ]
  },
  {
   "cell_type": "markdown",
   "id": "9af29be1-8df4-4087-bb0f-a871eafe455c",
   "metadata": {},
   "source": [
    "Report\n",
    "\n",
    "Churn Data Set read.\n",
    "\n",
    "With Exploratory Data Analysis\n",
    "\n",
    "During Model Buildingost\n",
    "\n",
    "The model created as a result of LightGBM hyperparameter optimization (AUC 0.87)"
   ]
  },
  {
   "cell_type": "code",
   "execution_count": null,
   "id": "6e793ce8-b4c1-468f-a50f-1b05f2d92f2a",
   "metadata": {},
   "outputs": [],
   "source": []
  }
 ],
 "metadata": {
  "kernelspec": {
   "display_name": "Python 3 (ipykernel)",
   "language": "python",
   "name": "python3"
  },
  "language_info": {
   "codemirror_mode": {
    "name": "ipython",
    "version": 3
   },
   "file_extension": ".py",
   "mimetype": "text/x-python",
   "name": "python",
   "nbconvert_exporter": "python",
   "pygments_lexer": "ipython3",
   "version": "3.10.12"
  }
 },
 "nbformat": 4,
 "nbformat_minor": 5
}
